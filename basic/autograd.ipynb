{
 "cells": [
  {
   "cell_type": "markdown",
   "id": "117bef68-91b6-4b78-a161-65b0da43d5e7",
   "metadata": {},
   "source": [
    "# torch.autogradを用いた自動微分\n",
    "\n",
    "逆伝搬のための仕組みも当然ある\n",
    "\n",
    "損失関数の勾配方向へパラメータを調整していく\n",
    "\n",
    "torch.autogradはそのためのエンジン\n",
    "\n",
    "計算グラフの生成を手助けする"
   ]
  },
  {
   "cell_type": "code",
   "execution_count": 6,
   "id": "72b70626-6e8f-4042-a86a-fc761179034d",
   "metadata": {},
   "outputs": [
    {
     "name": "stdout",
     "output_type": "stream",
     "text": [
      "grad function for z: <AddBackward0 object at 0x11263b4f0>\n",
      "grad funciton for loss: <BinaryCrossEntropyWithLogitsBackward0 object at 0x116d47460>\n"
     ]
    }
   ],
   "source": [
    "import torch\n",
    "\n",
    "x = torch.ones(5)\n",
    "y = torch.zeros(3)\n",
    "w = torch.randn(5, 3, requires_grad=True)\n",
    "b = torch.randn(3, requires_grad=True)\n",
    "z = x @ w + b\n",
    "loss = torch.nn.functional.binary_cross_entropy_with_logits(z, y)\n",
    "\n",
    "print(f\"grad function for z: {z.grad_fn}\")\n",
    "print(f\"grad funciton for loss: {loss.grad_fn}\")"
   ]
  },
  {
   "cell_type": "code",
   "execution_count": 7,
   "id": "622cc246-42d6-4b60-ad2e-f43ebb008776",
   "metadata": {},
   "outputs": [
    {
     "name": "stdout",
     "output_type": "stream",
     "text": [
      "tensor([[0.1022, 0.3306, 0.0639],\n",
      "        [0.1022, 0.3306, 0.0639],\n",
      "        [0.1022, 0.3306, 0.0639],\n",
      "        [0.1022, 0.3306, 0.0639],\n",
      "        [0.1022, 0.3306, 0.0639]])\n",
      "tensor([0.1022, 0.3306, 0.0639])\n"
     ]
    }
   ],
   "source": [
    "# 勾配の計算\n",
    "loss.backward()\n",
    "print(w.grad)\n",
    "print(b.grad)"
   ]
  },
  {
   "cell_type": "code",
   "execution_count": 9,
   "id": "12c79e0a-63f9-4e69-86c9-65e175523d1b",
   "metadata": {},
   "outputs": [
    {
     "name": "stdout",
     "output_type": "stream",
     "text": [
      "True\n",
      "False\n"
     ]
    }
   ],
   "source": [
    "# 勾配の無効化もできる\n",
    "z = x @ w + b\n",
    "print(z.requires_grad)\n",
    "\n",
    "with torch.no_grad():\n",
    "    z = x @ w + b\n",
    "print(z.requires_grad)"
   ]
  }
 ],
 "metadata": {
  "kernelspec": {
   "display_name": "Python 3 (ipykernel)",
   "language": "python",
   "name": "python3"
  },
  "language_info": {
   "codemirror_mode": {
    "name": "ipython",
    "version": 3
   },
   "file_extension": ".py",
   "mimetype": "text/x-python",
   "name": "python",
   "nbconvert_exporter": "python",
   "pygments_lexer": "ipython3",
   "version": "3.8.13"
  }
 },
 "nbformat": 4,
 "nbformat_minor": 5
}
