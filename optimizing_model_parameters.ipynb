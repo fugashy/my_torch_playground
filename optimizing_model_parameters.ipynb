{
 "cells": [
  {
   "cell_type": "code",
   "execution_count": 1,
   "id": "8601b87f-548f-4438-94fe-1fdc9ddcbd2c",
   "metadata": {},
   "outputs": [],
   "source": [
    "# モデルパラメータの最適化\n",
    "\n",
    "import os\n",
    "\n",
    "import torch\n",
    "from torch import nn\n",
    "from torch.utils.data import DataLoader\n",
    "from torchvision import datasets, transforms"
   ]
  },
  {
   "cell_type": "code",
   "execution_count": 2,
   "id": "3a81d13c-c8df-41df-bdb9-1c17ac2b6203",
   "metadata": {},
   "outputs": [
    {
     "name": "stdout",
     "output_type": "stream",
     "text": [
      "using mps device\n"
     ]
    }
   ],
   "source": [
    "# デバイスの設定\n",
    "device = 'mps' if torch.backends.mps.is_available() else 'cpu'\n",
    "print(f'using {device} device')"
   ]
  },
  {
   "cell_type": "code",
   "execution_count": 3,
   "id": "a8e4ce91-1ae1-4a55-a395-8e06aa0fa0e1",
   "metadata": {},
   "outputs": [],
   "source": [
    "# ニューラルネットワーククラス\n",
    "class NeuralNetwork(nn.Module):\n",
    "    def __init__(self):\n",
    "        super(NeuralNetwork, self).__init__()\n",
    "        self.flatten = nn.Flatten()\n",
    "        self.linear_relu_stack = nn.Sequential(\n",
    "            nn.Linear(28*28, 512),\n",
    "            nn.ReLU(),\n",
    "            nn.Linear(512, 512),\n",
    "            nn.ReLU(),\n",
    "            nn.Linear(512, 10))\n",
    "        \n",
    "    def forward(self, x):\n",
    "        x = self.flatten(x)\n",
    "        logits = self.linear_relu_stack(x)\n",
    "        return logits"
   ]
  },
  {
   "cell_type": "code",
   "execution_count": 6,
   "id": "da5d8e06-c898-4a83-b156-af297da5429e",
   "metadata": {},
   "outputs": [],
   "source": [
    "# 手元になかったらDownloadする\n",
    "training_data = datasets.FashionMNIST(\n",
    "    root='data',\n",
    "    train=True,\n",
    "    download=not os.path.exists('data/FashionMNIST/raw/train-images-idx3-ubyte.gz'),\n",
    "    transform=transforms.ToTensor())\n",
    "\n",
    "test_data = datasets.FashionMNIST(\n",
    "    root='data',\n",
    "    train=False,\n",
    "    download=not os.path.exists('data/FashionMNIST/raw/t10k-images-idx3-ubyte.gz'),\n",
    "    transform=transforms.ToTensor())\n",
    "\n",
    "train_dataloader = DataLoader(training_data, batch_size=64)\n",
    "test_dataloader = DataLoader(test_data, batch_size=64)"
   ]
  },
  {
   "cell_type": "code",
   "execution_count": 7,
   "id": "ef413430-6df2-4fc2-acce-ea638eb146b0",
   "metadata": {},
   "outputs": [],
   "source": [
    "model = NeuralNetwork().to(device)"
   ]
  },
  {
   "cell_type": "code",
   "execution_count": 31,
   "id": "56b48470-20e2-4a26-9490-d7c476f9a278",
   "metadata": {},
   "outputs": [],
   "source": [
    "learning_rate = 1e-3\n",
    "# 一度の学習に使用するデータの数\n",
    "# なのでパラメータの更新はbatch_size / data_size回となる\n",
    "batch_size = 64\n",
    "# データセットを何周するか\n",
    "epochs = 10"
   ]
  },
  {
   "cell_type": "code",
   "execution_count": 32,
   "id": "9812a804-eac9-4f58-8c71-b328995c3c6f",
   "metadata": {},
   "outputs": [],
   "source": [
    "# 損失関数\n",
    "loss_fn = nn.CrossEntropyLoss()\n",
    "\n",
    "# optimizer\n",
    "optimizer = torch.optim.SGD(\n",
    "    model.parameters(), lr=learning_rate)"
   ]
  },
  {
   "cell_type": "code",
   "execution_count": 33,
   "id": "274899ad-8375-4104-a50f-0596da76a205",
   "metadata": {},
   "outputs": [],
   "source": [
    "# 訓練ループ\n",
    "def train_loop(dataloader, model, loss_fn, optimizer):\n",
    "    size = len(dataloader.dataset)\n",
    "    for batch, (X, y) in enumerate(dataloader):\n",
    "        pred = model(X.to(device))\n",
    "        loss = loss_fn(pred, y.to(device))\n",
    "        \n",
    "        optimizer.zero_grad()  # 勾配の初期化\n",
    "        loss.backward()\n",
    "        optimizer.step()\n",
    "        \n",
    "        if batch % 100 == 0:\n",
    "            loss, current = loss.item(), batch * len(X)\n",
    "            print(f\"loss: {loss:>7f} [{current:>5d}/{size:>5d}\")"
   ]
  },
  {
   "cell_type": "code",
   "execution_count": 34,
   "id": "d6b2d6ed-7f8b-4ba5-ba44-09df09939df3",
   "metadata": {},
   "outputs": [],
   "source": [
    "# テストループ\n",
    "def test_loop(dataloader, model, loss_fn):\n",
    "    size = len(dataloader.dataset)\n",
    "    num_batches = len(dataloader)\n",
    "    test_loss, correct = 0, 0\n",
    "    \n",
    "    with torch.no_grad():\n",
    "        for X, y in dataloader:\n",
    "            pred = model(X.to(device))\n",
    "            test_loss += loss_fn(pred, y.to(device)).item()\n",
    "            correct += (pred.argmax(1) == y.to(device)).type(torch.float).sum().item()\n",
    "            \n",
    "        test_loss /= num_batches\n",
    "        correct /= size\n",
    "        print(f\"test errer: \\n accuracy: {(100*correct):>0.1f}%, avg loss: {test_loss:>8f} \\n\")"
   ]
  },
  {
   "cell_type": "code",
   "execution_count": 36,
   "id": "ebf21582-42d7-4ffd-ad95-36c9ae1326f3",
   "metadata": {},
   "outputs": [
    {
     "name": "stdout",
     "output_type": "stream",
     "text": [
      "epoch 1\n",
      "----------------\n",
      "loss: 0.616057 [    0/60000\n",
      "loss: 0.717811 [ 6400/60000\n",
      "loss: 0.496503 [12800/60000\n",
      "loss: 0.733524 [19200/60000\n",
      "loss: 0.651932 [25600/60000\n",
      "loss: 0.627056 [32000/60000\n",
      "loss: 0.691469 [38400/60000\n",
      "loss: 0.724219 [44800/60000\n",
      "loss: 0.713780 [51200/60000\n",
      "loss: 0.650887 [57600/60000\n",
      "test errer: \n",
      " accuracy: 77.0%, avg loss: 0.654379 \n",
      "\n",
      "epoch 2\n",
      "----------------\n",
      "loss: 0.597769 [    0/60000\n",
      "loss: 0.700455 [ 6400/60000\n",
      "loss: 0.481417 [12800/60000\n",
      "loss: 0.721592 [19200/60000\n",
      "loss: 0.641839 [25600/60000\n",
      "loss: 0.617039 [32000/60000\n",
      "loss: 0.675729 [38400/60000\n",
      "loss: 0.715144 [44800/60000\n",
      "loss: 0.703622 [51200/60000\n",
      "loss: 0.638787 [57600/60000\n",
      "test errer: \n",
      " accuracy: 77.6%, avg loss: 0.641870 \n",
      "\n",
      "epoch 3\n",
      "----------------\n",
      "loss: 0.581329 [    0/60000\n",
      "loss: 0.684406 [ 6400/60000\n",
      "loss: 0.467848 [12800/60000\n",
      "loss: 0.710500 [19200/60000\n",
      "loss: 0.632703 [25600/60000\n",
      "loss: 0.608112 [32000/60000\n",
      "loss: 0.661012 [38400/60000\n",
      "loss: 0.707094 [44800/60000\n",
      "loss: 0.694742 [51200/60000\n",
      "loss: 0.627426 [57600/60000\n",
      "test errer: \n",
      " accuracy: 77.9%, avg loss: 0.630343 \n",
      "\n",
      "epoch 4\n",
      "----------------\n",
      "loss: 0.566438 [    0/60000\n",
      "loss: 0.669605 [ 6400/60000\n",
      "loss: 0.455620 [12800/60000\n",
      "loss: 0.700081 [19200/60000\n",
      "loss: 0.624395 [25600/60000\n",
      "loss: 0.600107 [32000/60000\n",
      "loss: 0.647227 [38400/60000\n",
      "loss: 0.700008 [44800/60000\n",
      "loss: 0.687003 [51200/60000\n",
      "loss: 0.616803 [57600/60000\n",
      "test errer: \n",
      " accuracy: 78.3%, avg loss: 0.619719 \n",
      "\n",
      "epoch 5\n",
      "----------------\n",
      "loss: 0.552883 [    0/60000\n",
      "loss: 0.655963 [ 6400/60000\n",
      "loss: 0.444508 [12800/60000\n",
      "loss: 0.690291 [19200/60000\n",
      "loss: 0.616799 [25600/60000\n",
      "loss: 0.592909 [32000/60000\n",
      "loss: 0.634309 [38400/60000\n",
      "loss: 0.693896 [44800/60000\n",
      "loss: 0.680317 [51200/60000\n",
      "loss: 0.606761 [57600/60000\n",
      "test errer: \n",
      " accuracy: 78.8%, avg loss: 0.609922 \n",
      "\n",
      "epoch 6\n",
      "----------------\n",
      "loss: 0.540469 [    0/60000\n",
      "loss: 0.643368 [ 6400/60000\n",
      "loss: 0.434389 [12800/60000\n",
      "loss: 0.681084 [19200/60000\n",
      "loss: 0.609738 [25600/60000\n",
      "loss: 0.586328 [32000/60000\n",
      "loss: 0.622259 [38400/60000\n",
      "loss: 0.688695 [44800/60000\n",
      "loss: 0.674460 [51200/60000\n",
      "loss: 0.597257 [57600/60000\n",
      "test errer: \n",
      " accuracy: 79.2%, avg loss: 0.600891 \n",
      "\n",
      "epoch 7\n",
      "----------------\n",
      "loss: 0.529029 [    0/60000\n",
      "loss: 0.631781 [ 6400/60000\n",
      "loss: 0.425122 [12800/60000\n",
      "loss: 0.672365 [19200/60000\n",
      "loss: 0.603049 [25600/60000\n",
      "loss: 0.580224 [32000/60000\n",
      "loss: 0.611094 [38400/60000\n",
      "loss: 0.684398 [44800/60000\n",
      "loss: 0.669347 [51200/60000\n",
      "loss: 0.588131 [57600/60000\n",
      "test errer: \n",
      " accuracy: 79.4%, avg loss: 0.592564 \n",
      "\n",
      "epoch 8\n",
      "----------------\n",
      "loss: 0.518417 [    0/60000\n",
      "loss: 0.621126 [ 6400/60000\n",
      "loss: 0.416537 [12800/60000\n",
      "loss: 0.664148 [19200/60000\n",
      "loss: 0.596718 [25600/60000\n",
      "loss: 0.574509 [32000/60000\n",
      "loss: 0.600664 [38400/60000\n",
      "loss: 0.680878 [44800/60000\n",
      "loss: 0.664873 [51200/60000\n",
      "loss: 0.579323 [57600/60000\n",
      "test errer: \n",
      " accuracy: 79.7%, avg loss: 0.584863 \n",
      "\n",
      "epoch 9\n",
      "----------------\n",
      "loss: 0.508562 [    0/60000\n",
      "loss: 0.611251 [ 6400/60000\n",
      "loss: 0.408632 [12800/60000\n",
      "loss: 0.656323 [19200/60000\n",
      "loss: 0.590630 [25600/60000\n",
      "loss: 0.569031 [32000/60000\n",
      "loss: 0.590961 [38400/60000\n",
      "loss: 0.678072 [44800/60000\n",
      "loss: 0.660911 [51200/60000\n",
      "loss: 0.570721 [57600/60000\n",
      "test errer: \n",
      " accuracy: 79.9%, avg loss: 0.577729 \n",
      "\n",
      "epoch 10\n",
      "----------------\n",
      "loss: 0.499336 [    0/60000\n",
      "loss: 0.602099 [ 6400/60000\n",
      "loss: 0.401310 [12800/60000\n",
      "loss: 0.648890 [19200/60000\n",
      "loss: 0.584760 [25600/60000\n",
      "loss: 0.563815 [32000/60000\n",
      "loss: 0.581950 [38400/60000\n",
      "loss: 0.675882 [44800/60000\n",
      "loss: 0.657431 [51200/60000\n",
      "loss: 0.562340 [57600/60000\n",
      "test errer: \n",
      " accuracy: 80.1%, avg loss: 0.571109 \n",
      "\n",
      "done\n"
     ]
    }
   ],
   "source": [
    "# Do it\n",
    "for t in range(epochs):\n",
    "    print(f\"epoch {t + 1}\\n----------------\")\n",
    "    train_loop(train_dataloader, model, loss_fn, optimizer)\n",
    "    test_loop(test_dataloader, model, loss_fn)\n",
    "    \n",
    "print('done')"
   ]
  },
  {
   "cell_type": "code",
   "execution_count": 39,
   "id": "b2132a54-f6ed-41fa-a837-bc12491c009c",
   "metadata": {},
   "outputs": [
    {
     "name": "stdout",
     "output_type": "stream",
     "text": [
      "odict_keys(['linear_relu_stack.0.weight', 'linear_relu_stack.0.bias', 'linear_relu_stack.2.weight', 'linear_relu_stack.2.bias', 'linear_relu_stack.4.weight', 'linear_relu_stack.4.bias'])\n"
     ]
    }
   ],
   "source": [
    "# modelの保存\n",
    "print(model.state_dict().keys())\n",
    "torch.save(model.state_dict(), 'model_weights.pth')"
   ]
  },
  {
   "cell_type": "code",
   "execution_count": 42,
   "id": "a6554cbd-7d9f-466f-adbc-b5bd11a1e984",
   "metadata": {},
   "outputs": [
    {
     "data": {
      "text/plain": [
       "NeuralNetwork(\n",
       "  (flatten): Flatten(start_dim=1, end_dim=-1)\n",
       "  (linear_relu_stack): Sequential(\n",
       "    (0): Linear(in_features=784, out_features=512, bias=True)\n",
       "    (1): ReLU()\n",
       "    (2): Linear(in_features=512, out_features=512, bias=True)\n",
       "    (3): ReLU()\n",
       "    (4): Linear(in_features=512, out_features=10, bias=True)\n",
       "  )\n",
       ")"
      ]
     },
     "execution_count": 42,
     "metadata": {},
     "output_type": "execute_result"
    }
   ],
   "source": [
    "# modelのload\n",
    "# 状態だけを保存した場合は，その形状までは保存されないので，対応するモデルの初期化をした上で実施することになる\n",
    "# モデルをまるごと保存するならtorch.save(mode, 'model.pth')とする\n",
    "# そして，model = torch.load('model.pth')すればよい\n",
    "# 使い分け方法はおそらく，環境の違いによるエラーを避けるため，状態のみを保存するなど？\n",
    "loaded_model = NeuralNetwork().to(device)\n",
    "model.load_state_dict(torch.load('model_weights.pth'))\n",
    "model.eval()"
   ]
  }
 ],
 "metadata": {
  "kernelspec": {
   "display_name": "Python 3 (ipykernel)",
   "language": "python",
   "name": "python3"
  },
  "language_info": {
   "codemirror_mode": {
    "name": "ipython",
    "version": 3
   },
   "file_extension": ".py",
   "mimetype": "text/x-python",
   "name": "python",
   "nbconvert_exporter": "python",
   "pygments_lexer": "ipython3",
   "version": "3.8.13"
  }
 },
 "nbformat": 4,
 "nbformat_minor": 5
}
