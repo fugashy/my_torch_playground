{
 "cells": [
  {
   "cell_type": "markdown",
   "id": "57f6a00c-33e0-4bfd-912c-4e106f032863",
   "metadata": {},
   "source": [
    "# Tensors"
   ]
  },
  {
   "cell_type": "code",
   "execution_count": 3,
   "id": "0fd4067f-f25d-43cc-8ed4-e4332ec91acb",
   "metadata": {},
   "outputs": [
    {
     "name": "stdout",
     "output_type": "stream",
     "text": [
      "python:\n",
      "3.8.13 (default, Mar 28 2022, 06:13:39) \n",
      "[Clang 12.0.0 ]\n",
      "torch: 1.12.1\n",
      "mps is available\n"
     ]
    }
   ],
   "source": [
    "from sys import version\n",
    "import torch\n",
    "import numpy as np\n",
    "\n",
    "print(f'python:\\n{version}')\n",
    "print(f'torch: {torch.__version__}')\n",
    "\n",
    "if torch.backends.mps.is_available():\n",
    "    print('mps is available')\n",
    "    torch.device('mps')"
   ]
  },
  {
   "cell_type": "code",
   "execution_count": 4,
   "id": "c164ec63-9de2-4e6e-8a0c-b24d088bfd2d",
   "metadata": {},
   "outputs": [
    {
     "name": "stdout",
     "output_type": "stream",
     "text": [
      "generate tensor from list:\n",
      "tensor([[1, 2],\n",
      "        [3, 4]])\n"
     ]
    }
   ],
   "source": [
    "# listからデータ作れるよ\n",
    "data = [[1, 2], [3, 4]]\n",
    "x_data = torch.tensor(data)\n",
    "print(f'generate tensor from list:\\n{x_data}')"
   ]
  },
  {
   "cell_type": "code",
   "execution_count": 5,
   "id": "48ea58a2-534e-465e-9cf4-07c410061fda",
   "metadata": {},
   "outputs": [
    {
     "name": "stdout",
     "output_type": "stream",
     "text": [
      "generate tensor from np:\n",
      "tensor([[1, 2],\n",
      "        [3, 4]])\n"
     ]
    }
   ],
   "source": [
    "# numpy からも作れるよ\n",
    "np_array = np.array(data)\n",
    "x_np = torch.from_numpy(np_array)\n",
    "print(f'generate tensor from np:\\n{x_np}')"
   ]
  },
  {
   "cell_type": "code",
   "execution_count": 6,
   "id": "2c9fa177-201d-4b25-8879-7762e7ecde8a",
   "metadata": {},
   "outputs": [
    {
     "name": "stdout",
     "output_type": "stream",
     "text": [
      "ones tensor:\n",
      "tensor([[1, 1],\n",
      "        [1, 1]])\n",
      "rand tensor:\n",
      "tensor([[0.3353, 0.9901],\n",
      "        [0.5036, 0.6659]])\n"
     ]
    }
   ],
   "source": [
    "# npみたいに，1だけのtensorとかrandomな値をもつtensorも作れるよ\n",
    "x_ones = torch.ones_like(x_data)\n",
    "print(f'ones tensor:\\n{x_ones}')\n",
    "x_rand = torch.rand_like(x_data, dtype=torch.float)\n",
    "print(f'rand tensor:\\n{x_rand}')"
   ]
  },
  {
   "cell_type": "code",
   "execution_count": 8,
   "id": "9608735f-c8af-43ff-ab4e-ed0ec0e5dfa5",
   "metadata": {},
   "outputs": [],
   "source": [
    "# shape指定\n",
    "shape = (2, 3,)\n",
    "rand_tensor = torch.rand(shape)\n",
    "ones_tensor = torch.ones(shape)\n",
    "zeros_tensor = torch.zeros(shape)"
   ]
  },
  {
   "cell_type": "code",
   "execution_count": 9,
   "id": "32b11240-212f-46c7-aa52-52c8d1fb03af",
   "metadata": {},
   "outputs": [
    {
     "name": "stdout",
     "output_type": "stream",
     "text": [
      "shape: torch.Size([3, 4])\n",
      "dtype: torch.float32\n",
      "device tensor is stored on: cpu\n"
     ]
    }
   ],
   "source": [
    "# attributes\n",
    "tensor = torch.rand(3, 4)\n",
    "print(f'shape: {tensor.shape}')  # ただのtupleではない\n",
    "print(f'dtype: {tensor.dtype}')\n",
    "print(f'device tensor is stored on: {tensor.device}')"
   ]
  },
  {
   "cell_type": "code",
   "execution_count": 12,
   "id": "ec4c7043-c146-4a4b-a283-3aa90e4f2d96",
   "metadata": {},
   "outputs": [
    {
     "name": "stdout",
     "output_type": "stream",
     "text": [
      "device tensor is stored on: mps:0\n",
      "first row: tensor([1., 0., 1., 1.])\n",
      "first col: tensor([1., 1., 1., 1.])\n",
      "last  col: tensor([1., 1., 1., 1.])\n"
     ]
    }
   ],
   "source": [
    "# 大きいtensorをdevice間でやり取りすると時間とメモリがかかるとのこと\n",
    "if torch.backends.mps.is_available():\n",
    "    tensor = tensor.to('mps')\n",
    "print(f'device tensor is stored on: {tensor.device}')\n",
    "\n",
    "# 要素アクセスとスライシング\n",
    "tensor = torch.ones(4, 4)\n",
    "tensor[:, 1] = 0  # 1列目を0とする\n",
    "print(f'first row: {tensor[0]}')\n",
    "print(f'first col: {tensor[:, 0]}')\n",
    "print(f'last  col: {tensor[..., -1]}')"
   ]
  },
  {
   "cell_type": "code",
   "execution_count": 14,
   "id": "3e2dfbd4-71da-488d-a790-82b18adcec53",
   "metadata": {},
   "outputs": [
    {
     "name": "stdout",
     "output_type": "stream",
     "text": [
      "concat:\n",
      "tensor([[1., 0., 1., 1., 1., 0., 1., 1., 1., 0., 1., 1.],\n",
      "        [1., 0., 1., 1., 1., 0., 1., 1., 1., 0., 1., 1.],\n",
      "        [1., 0., 1., 1., 1., 0., 1., 1., 1., 0., 1., 1.],\n",
      "        [1., 0., 1., 1., 1., 0., 1., 1., 1., 0., 1., 1.]])\n"
     ]
    }
   ],
   "source": [
    "# concat\n",
    "t1 = torch.cat([tensor, tensor, tensor], dim=1)\n",
    "print(f'concat:\\n{t1}')"
   ]
  },
  {
   "cell_type": "code",
   "execution_count": 19,
   "id": "109d89dc-e701-4d67-b567-ec2c7e75c246",
   "metadata": {},
   "outputs": [
    {
     "name": "stdout",
     "output_type": "stream",
     "text": [
      "y0:\n",
      "tensor([[3., 3., 3., 3.],\n",
      "        [3., 3., 3., 3.],\n",
      "        [3., 3., 3., 3.],\n",
      "        [3., 3., 3., 3.]])\n",
      "y1:\n",
      "tensor([[3., 3., 3., 3.],\n",
      "        [3., 3., 3., 3.],\n",
      "        [3., 3., 3., 3.],\n",
      "        [3., 3., 3., 3.]])\n",
      "y2:\n",
      "tensor([[3., 3., 3., 3.],\n",
      "        [3., 3., 3., 3.],\n",
      "        [3., 3., 3., 3.],\n",
      "        [3., 3., 3., 3.]])\n"
     ]
    }
   ],
   "source": [
    "# mul\n",
    "y1 = tensor @ tensor.T\n",
    "y2 = tensor.matmul(tensor.T)\n",
    "\n",
    "y3 = torch.rand_like(y1)\n",
    "torch.matmul(tensor, tensor.T, out=y3)\n",
    "\n",
    "for i, y in enumerate([y1, y2, y3]):\n",
    "    print(f'y{i}:\\n{y}')"
   ]
  },
  {
   "cell_type": "code",
   "execution_count": 20,
   "id": "f74fd20a-87e8-4de0-a2c7-11c21110a42e",
   "metadata": {},
   "outputs": [
    {
     "name": "stdout",
     "output_type": "stream",
     "text": [
      "z0:\n",
      "tensor([[1., 0., 1., 1.],\n",
      "        [1., 0., 1., 1.],\n",
      "        [1., 0., 1., 1.],\n",
      "        [1., 0., 1., 1.]])\n",
      "z1:\n",
      "tensor([[1., 0., 1., 1.],\n",
      "        [0., 0., 0., 0.],\n",
      "        [1., 0., 1., 1.],\n",
      "        [1., 0., 1., 1.]])\n",
      "z2:\n",
      "tensor([[1., 0., 1., 1.],\n",
      "        [1., 0., 1., 1.],\n",
      "        [1., 0., 1., 1.],\n",
      "        [1., 0., 1., 1.]])\n"
     ]
    }
   ],
   "source": [
    "# element-wise product\n",
    "\n",
    "z1 = tensor * tensor\n",
    "z2 = tensor.mul(tensor.T)\n",
    "\n",
    "z3 = torch.rand_like(tensor)\n",
    "torch.mul(tensor, tensor, out=z3)\n",
    "\n",
    "for i, z in enumerate([z1, z2, z3]):\n",
    "    print(f'z{i}:\\n{z}')"
   ]
  },
  {
   "cell_type": "code",
   "execution_count": 26,
   "id": "fd024ab4-a543-496c-b7a1-58b0f1786d6b",
   "metadata": {},
   "outputs": [
    {
     "name": "stdout",
     "output_type": "stream",
     "text": [
      "sum of tensor: 12.0(<class 'torch.Tensor'>)\n",
      "sum of tensor: 12.0(<class 'float'>)\n",
      "mean of tensor: 0.75(<class 'torch.Tensor'>)\n"
     ]
    }
   ],
   "source": [
    "# 要約と取り出し\n",
    "agg = tensor.sum()\n",
    "print(f'sum of tensor: {agg}({type(agg)})')\n",
    "agg_item = agg.item()\n",
    "print(f'sum of tensor: {agg_item}({type(agg_item)})')\n",
    "\n",
    "ave = tensor.mean()\n",
    "print(f'mean of tensor: {ave}({type(ave)})')"
   ]
  },
  {
   "cell_type": "code",
   "execution_count": 32,
   "id": "45f1543c-0da5-4ac2-9e0c-4669df192905",
   "metadata": {},
   "outputs": [
    {
     "name": "stdout",
     "output_type": "stream",
     "text": [
      "t(<class 'torch.Tensor'>:\n",
      "tensor([1., 1., 1., 1., 1.])\n",
      "n(<class 'numpy.ndarray'>:\n",
      "[1. 1. 1. 1. 1.]\n",
      "t(<class 'torch.Tensor'>:\n",
      "tensor([2., 2., 2., 2., 2.])\n",
      "n(<class 'numpy.ndarray'>:\n",
      "[2. 2. 2. 2. 2.]\n"
     ]
    }
   ],
   "source": [
    "# numpyとの変換ができる\n",
    "# このとき，対象のtensorはCPU上にあること\n",
    "\n",
    "t = torch.ones(5)\n",
    "print(f't({type(t)}:\\n{t}')\n",
    "\n",
    "n = t.numpy()\n",
    "print(f'n({type(n)}:\\n{n}')\n",
    "\n",
    "# 参照関係があるため，tへの変更はnに反映される点を覚えておく\n",
    "t.add_(1)\n",
    "\n",
    "print(f't({type(t)}:\\n{t}')\n",
    "print(f'n({type(n)}:\\n{n}')"
   ]
  },
  {
   "cell_type": "code",
   "execution_count": null,
   "id": "a6afc437-ca10-46d0-8ea4-54a34aff95bc",
   "metadata": {},
   "outputs": [],
   "source": []
  }
 ],
 "metadata": {
  "kernelspec": {
   "display_name": "Python 3 (ipykernel)",
   "language": "python",
   "name": "python3"
  },
  "language_info": {
   "codemirror_mode": {
    "name": "ipython",
    "version": 3
   },
   "file_extension": ".py",
   "mimetype": "text/x-python",
   "name": "python",
   "nbconvert_exporter": "python",
   "pygments_lexer": "ipython3",
   "version": "3.8.13"
  }
 },
 "nbformat": 4,
 "nbformat_minor": 5
}
