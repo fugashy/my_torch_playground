{
 "cells": [
  {
   "cell_type": "markdown",
   "id": "0e1aa07c-e8d5-47d5-9b66-963c1273a10b",
   "metadata": {},
   "source": [
    "# データセットとデータローダ\n",
    "\n",
    "２つのプリミティブが提供されている\n",
    "\n",
    "- torch.utils.data.DataLoader\n",
    "- torch.utils.data.Dataset\n",
    "\n",
    "データセットにはサンプルと対応するラベルが．\n",
    "\n",
    "データローダはデータセットのイテレーションができる"
   ]
  },
  {
   "cell_type": "code",
   "execution_count": 1,
   "id": "01982a85-784b-4a7e-9b31-72d31070bc45",
   "metadata": {},
   "outputs": [],
   "source": [
    "import os\n",
    "\n",
    "import torch\n",
    "from torch.utils.data import Dataset\n",
    "from torchvision import datasets\n",
    "from torchvision.transforms import ToTensor\n",
    "\n",
    "import matplotlib.pyplot as plt"
   ]
  },
  {
   "cell_type": "code",
   "execution_count": 4,
   "id": "1bb68d9d-0e96-4073-b920-d0f4395a1e71",
   "metadata": {},
   "outputs": [],
   "source": [
    "# 手元になかったらDownloadする\n",
    "training_data = datasets.FashionMNIST(\n",
    "    root='data',\n",
    "    train=True,\n",
    "    download=not os.path.exists('data/FashionMNIST/raw/train-images-idx3-ubyte.gz'),\n",
    "    transform=ToTensor())\n",
    "\n",
    "test_data = datasets.FashionMNIST(\n",
    "    root='data',\n",
    "    train=False,\n",
    "    download=not os.path.exists('data/FashionMNIST/raw/t10k-images-idx3-ubyte.gz'),\n",
    "    transform=ToTensor())"
   ]
  },
  {
   "cell_type": "code",
   "execution_count": 7,
   "id": "aa1a0b03-7004-4ba2-a9b0-5afe53217458",
   "metadata": {},
   "outputs": [
    {
     "data": {
      "image/png": "[encoded data removed]",
      "text/plain": [
       "<Figure size 576x576 with 9 Axes>"
      ]
     },
     "metadata": {
      "needs_background": "light"
     },
     "output_type": "display_data"
    }
   ],
   "source": [
    "# とりあえず表示してみる\n",
    "labels_map = {\n",
    "    0: \"T-Shirt\",\n",
    "    1: \"Trouser\",\n",
    "    2: \"Pullover\",\n",
    "    3: \"Dress\",\n",
    "    4: \"Coat\",\n",
    "    5: \"Sandal\",\n",
    "    6: \"Shirt\",\n",
    "    7: \"Sneaker\",\n",
    "    8: \"Bag\",\n",
    "    9: \"Ankle Boot\",\n",
    "}\n",
    "figure = plt.figure(figsize=(8, 8))\n",
    "cols, rows = 3, 3\n",
    "for i in range(1, cols * rows + 1):\n",
    "    sample_idx = torch.randint(len(training_data), size=(1,)).item()\n",
    "    img, label = training_data[sample_idx]\n",
    "    figure.add_subplot(rows, cols, i)\n",
    "    plt.title(labels_map[label])\n",
    "    plt.axis(\"off\")\n",
    "    plt.imshow(img.squeeze(), cmap=\"gray\")"
   ]
  },
  {
   "cell_type": "code",
   "execution_count": 10,
   "id": "1174f869-c6c3-4c6a-83fc-ec59e5b95b75",
   "metadata": {},
   "outputs": [],
   "source": [
    "# カスタムデータセットをつくる\n",
    "import pandas as pd\n",
    "from torchvision.io import read_image\n",
    "\n",
    "class CustomImageDataset(Dataset):\n",
    "    u\"\"\"\n",
    "        画像が入っているディレクトリやアノテーションファイルの初期化をする\n",
    "        transform関連は後述\n",
    "    \"\"\"\n",
    "    def __init__(\n",
    "        self,\n",
    "        annotations_file,\n",
    "        img_dir,\n",
    "        transform=None,\n",
    "        target_transform=None):\n",
    "        self.img_labels = pd.read_csv(annotation_file)\n",
    "        self.img_dir = img_dir\n",
    "        self.transform = transform\n",
    "        self.target_transform = target_transform\n",
    "        \n",
    "    def __len__(self):\n",
    "        return len(self.img_labels)\n",
    "    \n",
    "    u\"\"\"\n",
    "        read_imageによりtensorに変換する\n",
    "        対応したlabelをcsvファイルから得る\n",
    "    \"\"\"\n",
    "    def __getitem__(self, idx):\n",
    "        img_path = os.path.join(\n",
    "            self.img_dir,\n",
    "            self.img_labels.iloc[idx, 0])\n",
    "        image = read_image(img_path)\n",
    "        label = self.img_labels.iloc[idx, 1]\n",
    "        if self.transform:\n",
    "            image = self.transform(image)\n",
    "        if self.target_transform:\n",
    "            label = self.target_transform(label)\n",
    "        return image, label"
   ]
  },
  {
   "cell_type": "code",
   "execution_count": 16,
   "id": "cf0ee29e-fd2f-4cdc-b795-35d32ae12b87",
   "metadata": {},
   "outputs": [],
   "source": [
    "# データローダを用いた訓練データの用意\n",
    "from torch.utils.data import DataLoader\n",
    "\n",
    "# Datasetを用いてDataloaderの初期化\n",
    "train_dataloader = DataLoader(\n",
    "    training_data, batch_size=64, shuffle=True)\n",
    "\n",
    "test_dataloader = DataLoader(\n",
    "    test_data, batch_size=64, shuffle=True)"
   ]
  },
  {
   "cell_type": "code",
   "execution_count": 18,
   "id": "185a60b6-9944-4334-ade2-f0f246e66973",
   "metadata": {},
   "outputs": [
    {
     "name": "stdout",
     "output_type": "stream",
     "text": [
      "feature batch shape: torch.Size([64, 1, 28, 28])\n",
      "labels batch shape: torch.Size([64])\n"
     ]
    }
   ],
   "source": [
    "# データローダを用いたイテレーション\n",
    "train_features, train_labels = next(iter(train_dataloader))\n",
    "\n",
    "print(f'feature batch shape: {train_features.size()}')\n",
    "print(f'labels batch shape: {train_labels.size()}')\n",
    "\n",
    "img = tran_features[0].squeeze()\n",
    "label = train"
   ]
  }
 ],
 "metadata": {
  "kernelspec": {
   "display_name": "Python 3 (ipykernel)",
   "language": "python",
   "name": "python3"
  },
  "language_info": {
   "codemirror_mode": {
    "name": "ipython",
    "version": 3
   },
   "file_extension": ".py",
   "mimetype": "text/x-python",
   "name": "python",
   "nbconvert_exporter": "python",
   "pygments_lexer": "ipython3",
   "version": "3.8.13"
  }
 },
 "nbformat": 4,
 "nbformat_minor": 5
}
