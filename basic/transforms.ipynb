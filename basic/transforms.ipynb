{
 "cells": [
  {
   "cell_type": "markdown",
   "id": "c8d98dba-7f5b-4afe-811a-9892d7c666aa",
   "metadata": {},
   "source": [
    "# Transforms\n",
    "\n",
    "データが深層学習アルゴリズムに適応した形式で来るとは限らない\n",
    "\n",
    "そのため，データセットクラスにはtransform, target_transformを設定できる口が用意されている\n",
    "\n",
    "- transform\n",
    "\n",
    "  featureに対する変換（多分入力テンソルのこと）\n",
    "  \n",
    "- target_transform\n",
    "\n",
    "  labelに対する変換"
   ]
  },
  {
   "cell_type": "markdown",
   "id": "dadbb07c-ebe5-4930-bc38-52fa4a860ede",
   "metadata": {},
   "source": [
    "## FashionMNISTの場合\n",
    "\n",
    "- 入力はPIL画像フォーマット\n",
    "\n",
    "- ラベルは整数\n",
    "\n",
    "そのため，正規化された形に変換しておきたい"
   ]
  },
  {
   "cell_type": "code",
   "execution_count": 5,
   "id": "15175065-e536-4224-b11a-92a98de849a5",
   "metadata": {},
   "outputs": [
    {
     "name": "stdout",
     "output_type": "stream",
     "text": [
      "Dataset FashionMNIST\n",
      "    Number of datapoints: 60000\n",
      "    Root location: data\n",
      "    Split: Train\n",
      "    StandardTransform\n",
      "Transform: ToTensor()\n",
      "Target transform: Lambda()\n"
     ]
    }
   ],
   "source": [
    "import os\n",
    "\n",
    "import torch\n",
    "from torchvision import datasets\n",
    "from torchvision.transforms import ToTensor, Lambda\n",
    "\n",
    "ds = datasets.FashionMNIST(\n",
    "    root='data',\n",
    "    train=True,\n",
    "    download=not os.path.exists('data/FashionMNIST/raw/train-images-idx3-ubyte.gz'),\n",
    "    # convert PIL or numpy.ndarray into a FloatTensor\n",
    "    transform = ToTensor(),\n",
    "    # convert integer into a one-hot encoded tensor\n",
    "    # [0, 0, 0, 0, 0, 1, 0, 0, 0, 0,] のような\n",
    "    target_transform=Lambda(\n",
    "        lambda y: torch.zeros(\n",
    "            10,\n",
    "            dtype=torch.float).scatter_(0, torch.tensor(y), value=1)))\n",
    "\n",
    "print(ds)"
   ]
  }
 ],
 "metadata": {
  "kernelspec": {
   "display_name": "Python 3 (ipykernel)",
   "language": "python",
   "name": "python3"
  },
  "language_info": {
   "codemirror_mode": {
    "name": "ipython",
    "version": 3
   },
   "file_extension": ".py",
   "mimetype": "text/x-python",
   "name": "python",
   "nbconvert_exporter": "python",
   "pygments_lexer": "ipython3",
   "version": "3.8.13"
  }
 },
 "nbformat": 4,
 "nbformat_minor": 5
}
