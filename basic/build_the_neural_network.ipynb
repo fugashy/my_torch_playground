{
 "cells": [
  {
   "cell_type": "markdown",
   "id": "e7749d55-c3a7-4c93-a2c5-767b83c256fa",
   "metadata": {},
   "source": [
    "# ニューラルネットワークのビルド"
   ]
  },
  {
   "cell_type": "code",
   "execution_count": 2,
   "id": "6cd4b240-6c7a-4dc1-9b8f-8cf8a568f8f3",
   "metadata": {},
   "outputs": [],
   "source": [
    "import os\n",
    "\n",
    "import torch\n",
    "from torch import nn\n",
    "from torch.utils.data import DataLoader\n",
    "from torchvision import datasets, transforms"
   ]
  },
  {
   "cell_type": "code",
   "execution_count": 4,
   "id": "1a204388-39b2-482e-bdcd-0ac1be31e7aa",
   "metadata": {},
   "outputs": [
    {
     "name": "stdout",
     "output_type": "stream",
     "text": [
      "using mps device\n"
     ]
    }
   ],
   "source": [
    "# デバイスの設定\n",
    "device = 'mps' if torch.backends.mps.is_available() else 'cpu'\n",
    "print(f'using {device} device')"
   ]
  },
  {
   "cell_type": "code",
   "execution_count": 5,
   "id": "f2819406-0b68-4152-bed8-ac3e37fcee7a",
   "metadata": {},
   "outputs": [],
   "source": [
    "# ニューラルネットワーククラス\n",
    "class NeuralNetwork(nn.Module):\n",
    "    def __init__(self):\n",
    "        super(NeuralNetwork, self).__init__()\n",
    "        self.flatten = nn.Flatten()\n",
    "        self.linear_relu_stack = nn.Sequential(\n",
    "            nn.Linear(28*28, 512),\n",
    "            nn.ReLU(),\n",
    "            nn.Linear(512, 512),\n",
    "            nn.ReLU(),\n",
    "            nn.Linear(512, 10))\n",
    "        \n",
    "    def forward(self, x):\n",
    "        x = self.flatten(x)\n",
    "        logits = self.linear_relu_stack(x)\n",
    "        return logits"
   ]
  },
  {
   "cell_type": "code",
   "execution_count": 6,
   "id": "a0d76731-2132-44b3-8177-5e72be76f52a",
   "metadata": {},
   "outputs": [
    {
     "name": "stdout",
     "output_type": "stream",
     "text": [
      "NeuralNetwork(\n",
      "  (flatten): Flatten(start_dim=1, end_dim=-1)\n",
      "  (linear_relu_stack): Sequential(\n",
      "    (0): Linear(in_features=784, out_features=512, bias=True)\n",
      "    (1): ReLU()\n",
      "    (2): Linear(in_features=512, out_features=512, bias=True)\n",
      "    (3): ReLU()\n",
      "    (4): Linear(in_features=512, out_features=10, bias=True)\n",
      "  )\n",
      ")\n"
     ]
    }
   ],
   "source": [
    "model = NeuralNetwork().to(device)\n",
    "print(model)"
   ]
  },
  {
   "cell_type": "code",
   "execution_count": 14,
   "id": "728c24dc-71ee-40eb-97b0-dd85affcdc2d",
   "metadata": {},
   "outputs": [
    {
     "name": "stdout",
     "output_type": "stream",
     "text": [
      "model output(raw):\n",
      "tensor([[-0.0861, -0.0546,  0.0531, -0.0399, -0.0550,  0.0069,  0.0154, -0.0364,\n",
      "          0.0433,  0.0030]], grad_fn=<ToCopyBackward0>)\n",
      "model output(prob):\n",
      "tensor([[0.0931, 0.0960, 0.1070, 0.0974, 0.0960, 0.1021, 0.1030, 0.0978, 0.1059,\n",
      "         0.1017]], device='mps:0', grad_fn=<SoftmaxBackward0>)\n",
      "predicted class: tensor([2], device='mps:0')\n"
     ]
    }
   ],
   "source": [
    "# 使用するには，入力をモデルに与える\n",
    "# このとき，forward処理もその他の処理とともに動作する\n",
    "# forwardを直接コールする必要はない\n",
    "\n",
    "X = torch.rand(1, 28, 28, device=device)\n",
    "logits = model(X)\n",
    "print(f\"model output(raw):\\n{logits.to('cpu')}\")\n",
    "pred_probab = nn.Softmax(dim=1)(logits)\n",
    "print(f\"model output(prob):\\n{pred_probab}\")\n",
    "y_pred = pred_probab.argmax(1)\n",
    "print(f'predicted class: {y_pred}')"
   ]
  },
  {
   "cell_type": "markdown",
   "id": "33b10583-4edd-4871-ad9f-960b695e1c5d",
   "metadata": {},
   "source": [
    "# 少々深堀り"
   ]
  },
  {
   "cell_type": "code",
   "execution_count": 15,
   "id": "e3712512-a9b1-4c1e-8373-4395fd5fb99d",
   "metadata": {},
   "outputs": [
    {
     "name": "stdout",
     "output_type": "stream",
     "text": [
      "torch.Size([3, 28, 28])\n"
     ]
    }
   ],
   "source": [
    "# 3つの画像を想定したミニバッチを用意\n",
    "input_image = torch.rand(3, 28, 28)\n",
    "print(input_image.size())"
   ]
  },
  {
   "cell_type": "code",
   "execution_count": 16,
   "id": "bf5a90f2-dc57-463b-850e-472c29a4d7d6",
   "metadata": {},
   "outputs": [
    {
     "name": "stdout",
     "output_type": "stream",
     "text": [
      "torch.Size([3, 784])\n"
     ]
    }
   ],
   "source": [
    "# 画像を1次元配列に\n",
    "flatten = nn.Flatten()\n",
    "flat_image = flatten(input_image)\n",
    "print(flat_image.size())"
   ]
  },
  {
   "cell_type": "code",
   "execution_count": 17,
   "id": "79680a0b-ca06-49e2-aed2-44db5e06f9cc",
   "metadata": {},
   "outputs": [
    {
     "name": "stdout",
     "output_type": "stream",
     "text": [
      "torch.Size([3, 20])\n"
     ]
    }
   ],
   "source": [
    "# 線形変換層の動作の確認\n",
    "layer1 = nn.Linear(in_features=28*28, out_features=20)\n",
    "hidden1 = layer1(flat_image)\n",
    "print(hidden1.size())"
   ]
  },
  {
   "cell_type": "code",
   "execution_count": 20,
   "id": "561c5350-8cc7-40c8-ac17-a6ad941ddaf4",
   "metadata": {},
   "outputs": [
    {
     "name": "stdout",
     "output_type": "stream",
     "text": [
      "before relu: tensor([[0.0000, 0.2374, 0.1187, 0.1020, 0.0000, 0.0000, 0.0096, 0.0000, 0.0515,\n",
      "         0.0584, 0.1903, 0.1448, 0.0000, 0.0588, 0.0528, 0.0958, 0.0000, 0.0000,\n",
      "         0.0000, 0.0000],\n",
      "        [0.0000, 0.3059, 0.0266, 0.0000, 0.1480, 0.0000, 0.1438, 0.0000, 0.0000,\n",
      "         0.0000, 0.1188, 0.3235, 0.0957, 0.0000, 0.1193, 0.0582, 0.0000, 0.0000,\n",
      "         0.0000, 0.0000],\n",
      "        [0.0000, 0.1874, 0.0386, 0.1225, 0.0857, 0.0977, 0.0000, 0.0000, 0.0669,\n",
      "         0.5749, 0.0000, 0.1729, 0.0083, 0.0000, 0.3544, 0.0744, 0.0000, 0.0000,\n",
      "         0.0000, 0.0000]], grad_fn=<ReluBackward0>)\n",
      "\n",
      "\n",
      "after relu: tensor([[0.0000, 0.2374, 0.1187, 0.1020, 0.0000, 0.0000, 0.0096, 0.0000, 0.0515,\n",
      "         0.0584, 0.1903, 0.1448, 0.0000, 0.0588, 0.0528, 0.0958, 0.0000, 0.0000,\n",
      "         0.0000, 0.0000],\n",
      "        [0.0000, 0.3059, 0.0266, 0.0000, 0.1480, 0.0000, 0.1438, 0.0000, 0.0000,\n",
      "         0.0000, 0.1188, 0.3235, 0.0957, 0.0000, 0.1193, 0.0582, 0.0000, 0.0000,\n",
      "         0.0000, 0.0000],\n",
      "        [0.0000, 0.1874, 0.0386, 0.1225, 0.0857, 0.0977, 0.0000, 0.0000, 0.0669,\n",
      "         0.5749, 0.0000, 0.1729, 0.0083, 0.0000, 0.3544, 0.0744, 0.0000, 0.0000,\n",
      "         0.0000, 0.0000]], grad_fn=<ReluBackward0>)\n",
      "\n",
      "\n"
     ]
    }
   ],
   "source": [
    "# reluの動作確認\n",
    "print(f\"before relu: {hidden1}\\n\\n\")\n",
    "hidden1 = nn.ReLU()(hidden1)\n",
    "# 0未満の値は0, それ以外はそのまま\n",
    "print(f\"after relu: {hidden1}\\n\\n\")"
   ]
  },
  {
   "cell_type": "code",
   "execution_count": 23,
   "id": "ec08912e-a397-436a-b0ed-c099216867ca",
   "metadata": {},
   "outputs": [],
   "source": [
    "# 直列にスタック\n",
    "seq_modules = nn.Sequential(\n",
    "    flatten,\n",
    "    layer1,\n",
    "    nn.ReLU(),\n",
    "    nn.Linear(20, 10))\n",
    "\n",
    "input_image = torch.rand(3, 28, 28)\n",
    "logits = seq_modules(input_image)"
   ]
  },
  {
   "cell_type": "code",
   "execution_count": 31,
   "id": "e3e2d7db-42ca-4da8-983e-d0c38c158184",
   "metadata": {},
   "outputs": [
    {
     "name": "stdout",
     "output_type": "stream",
     "text": [
      "tensor([[0.1371, 0.0837, 0.0840, 0.0765, 0.1049, 0.0939, 0.1163, 0.1057, 0.1151,\n",
      "         0.0827],\n",
      "        [0.1376, 0.0818, 0.0917, 0.0761, 0.1087, 0.0897, 0.1236, 0.1055, 0.0990,\n",
      "         0.0862],\n",
      "        [0.1493, 0.0803, 0.0806, 0.0791, 0.1041, 0.0949, 0.1137, 0.1050, 0.1091,\n",
      "         0.0840]], grad_fn=<SoftmaxBackward0>)\n"
     ]
    }
   ],
   "source": [
    "# 出力を確率に変換\n",
    "softmax = nn.Softmax(dim=1)\n",
    "pred_probab = softmax(logits)\n",
    "print(pred_probab)"
   ]
  },
  {
   "cell_type": "code",
   "execution_count": 33,
   "id": "102d1a9e-8984-42fd-b523-94ef438222df",
   "metadata": {},
   "outputs": [
    {
     "name": "stdout",
     "output_type": "stream",
     "text": [
      "layer: linear_relu_stack.0.weight | size: torch.Size([512, 784]) | values: tensor([[ 0.0009,  0.0163,  0.0018,  ..., -0.0030, -0.0268, -0.0057],\n",
      "        [ 0.0273, -0.0257,  0.0185,  ..., -0.0059,  0.0055,  0.0165]],\n",
      "       device='mps:0', grad_fn=<SliceBackward0>)\n",
      "layer: linear_relu_stack.0.bias | size: torch.Size([512]) | values: tensor([-0.0290,  0.0228], device='mps:0', grad_fn=<SliceBackward0>)\n",
      "layer: linear_relu_stack.2.weight | size: torch.Size([512, 512]) | values: tensor([[ 0.0074, -0.0231,  0.0285,  ..., -0.0431, -0.0194,  0.0387],\n",
      "        [-0.0111,  0.0087, -0.0190,  ..., -0.0200, -0.0116, -0.0146]],\n",
      "       device='mps:0', grad_fn=<SliceBackward0>)\n",
      "layer: linear_relu_stack.2.bias | size: torch.Size([512]) | values: tensor([ 0.0209, -0.0028], device='mps:0', grad_fn=<SliceBackward0>)\n",
      "layer: linear_relu_stack.4.weight | size: torch.Size([10, 512]) | values: tensor([[ 0.0371, -0.0340,  0.0074,  ...,  0.0238,  0.0164, -0.0314],\n",
      "        [-0.0086,  0.0183,  0.0248,  ..., -0.0256,  0.0380, -0.0046]],\n",
      "       device='mps:0', grad_fn=<SliceBackward0>)\n",
      "layer: linear_relu_stack.4.bias | size: torch.Size([10]) | values: tensor([-0.0132, -0.0400], device='mps:0', grad_fn=<SliceBackward0>)\n"
     ]
    }
   ],
   "source": [
    "# モデルパラメータの確認\n",
    "# nn.Moduleでは，すべてのパラメータがトラックされている\n",
    "for name, param in model.named_parameters():\n",
    "    print(f\"layer: {name} | size: {param.size()} | values: {param[:2]}\")"
   ]
  },
  {
   "cell_type": "code",
   "execution_count": null,
   "id": "d31b0d6e-ec7b-4fbb-ae35-6a7cb4129d53",
   "metadata": {},
   "outputs": [],
   "source": []
  }
 ],
 "metadata": {
  "kernelspec": {
   "display_name": "Python 3 (ipykernel)",
   "language": "python",
   "name": "python3"
  },
  "language_info": {
   "codemirror_mode": {
    "name": "ipython",
    "version": 3
   },
   "file_extension": ".py",
   "mimetype": "text/x-python",
   "name": "python",
   "nbconvert_exporter": "python",
   "pygments_lexer": "ipython3",
   "version": "3.8.13"
  }
 },
 "nbformat": 4,
 "nbformat_minor": 5
}
